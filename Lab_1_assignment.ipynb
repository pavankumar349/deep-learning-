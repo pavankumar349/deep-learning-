{
  "cells": [
    {
      "cell_type": "code",
      "execution_count": null,
      "id": "1b4dac59-818c-4516-b394-12192449650c",
      "metadata": {
        "colab": {
          "base_uri": "https://localhost:8080/"
        },
        "id": "1b4dac59-818c-4516-b394-12192449650c",
        "outputId": "58fd59fc-a820-4d55-d9dc-b27596fb89c3"
      },
      "outputs": [
        {
          "name": "stdout",
          "output_type": "stream",
          "text": [
            "Dataset: images - Shape: (2626, 128, 128, 3) - Data type: uint8\n",
            "Dataset: labels - Shape: (2626,) - Data type: int32\n"
          ]
        }
      ],
      "source": [
        "import h5py\n",
        "\n",
        "# Open the HDF5 file\n",
        "train_path = r'/content/Train (1).h5'  # Replace with your file path\n",
        "with h5py.File(train_path, 'r') as file:\n",
        "    # Recursively print the structure of the file\n",
        "    def print_structure(name, obj):\n",
        "        if isinstance(obj, h5py.Group):\n",
        "            print(f\"Group: {name}\")\n",
        "        elif isinstance(obj, h5py.Dataset):\n",
        "            print(f\"Dataset: {name} - Shape: {obj.shape} - Data type: {obj.dtype}\")\n",
        "\n",
        "    file.visititems(print_structure)"
      ]
    },
    {
      "cell_type": "code",
      "execution_count": null,
      "id": "40504d6a-fdc5-4053-a555-67bb09d00f52",
      "metadata": {
        "colab": {
          "base_uri": "https://localhost:8080/"
        },
        "id": "40504d6a-fdc5-4053-a555-67bb09d00f52",
        "outputId": "bcd8c543-871a-48ee-c82e-c070e96b5a53"
      },
      "outputs": [
        {
          "name": "stdout",
          "output_type": "stream",
          "text": [
            "Dataset: images - Shape: (120, 128, 128, 3) - Data type: uint8\n",
            "Dataset: labels - Shape: (120,) - Data type: int32\n"
          ]
        }
      ],
      "source": [
        "import h5py\n",
        "\n",
        "# Open the HDF5 file\n",
        "test_path = r'/content/Test (1).h5'  # Replace with your file path\n",
        "with h5py.File(test_path, 'r') as file:\n",
        "    # Recursively print the structure of the file\n",
        "    def print_structure(name, obj):\n",
        "        if isinstance(obj, h5py.Group):\n",
        "            print(f\"Group: {name}\")\n",
        "        elif isinstance(obj, h5py.Dataset):\n",
        "            print(f\"Dataset: {name} - Shape: {obj.shape} - Data type: {obj.dtype}\")\n",
        "\n",
        "    file.visititems(print_structure)"
      ]
    },
    {
      "cell_type": "code",
      "execution_count": 2,
      "id": "fdb578ec-81dc-466d-a053-043de2fcb625",
      "metadata": {
        "colab": {
          "base_uri": "https://localhost:8080/"
        },
        "id": "fdb578ec-81dc-466d-a053-043de2fcb625",
        "outputId": "b147a72f-d9c4-4d3b-a792-c02ae89c5254"
      },
      "outputs": [
        {
          "output_type": "stream",
          "name": "stdout",
          "text": [
            "Current Working Directory: /content\n",
            "File Train.h5 not found!\n",
            "File Test.h5 not found!\n"
          ]
        }
      ],
      "source": [
        "import os\n",
        "import h5py\n",
        "\n",
        "def inspect_h5_file(file_path):\n",
        "    # Check if the file exists\n",
        "    if os.path.exists(file_path):\n",
        "        with h5py.File(file_path, \"r\") as file:\n",
        "            print(f\"Keys in {file_path}: {list(file.keys())}\")\n",
        "    else:\n",
        "        print(f\"File {file_path} not found!\")\n",
        "\n",
        "# Check current working directory\n",
        "print(\"Current Working Directory:\", os.getcwd())\n",
        "\n",
        "\n",
        "\n",
        "# Inspect the training file\n",
        "inspect_h5_file(\"Train.h5\")\n",
        "\n",
        "# Inspect the test file\n",
        "inspect_h5_file(\"Test.h5\")\n"
      ]
    },
    {
      "cell_type": "code",
      "execution_count": null,
      "id": "30e2f891-3317-4a54-b325-98f16232145e",
      "metadata": {
        "id": "30e2f891-3317-4a54-b325-98f16232145e"
      },
      "outputs": [],
      "source": [
        "import numpy as np\n",
        "import h5py\n",
        "import matplotlib.pyplot as plt\n",
        "\n",
        "# Load the dataset\n",
        "def load_data(train_path, test_path):\n",
        "    train_dataset = h5py.File(train_path, \"r\")\n",
        "    test_dataset = h5py.File(test_path, \"r\")\n",
        "\n",
        "    train_x_orig = np.array(train_dataset[\"images\"][:])  # Replace with the correct key\n",
        "    train_y_orig = np.array(train_dataset[\"labels\"][:])  # Replace with the correct key\n",
        "\n",
        "    test_x_orig = np.array(test_dataset[\"images\"][:])  # Replace with the correct key\n",
        "    test_y_orig = np.array(test_dataset[\"labels\"][:])  # Replace with the correct key\n",
        "\n",
        "    return train_x_orig, train_y_orig, test_x_orig, test_y_orig"
      ]
    },
    {
      "cell_type": "code",
      "execution_count": null,
      "id": "f3e25dc9-5c08-4a73-9239-6c6e7e90df1e",
      "metadata": {
        "id": "f3e25dc9-5c08-4a73-9239-6c6e7e90df1e"
      },
      "outputs": [],
      "source": [
        "# Normalize the dataset\n",
        "def preprocess_data(train_x_orig, test_x_orig):\n",
        "    train_x_flatten = train_x_orig.reshape(train_x_orig.shape[0], -1).T\n",
        "    test_x_flatten = test_x_orig.reshape(test_x_orig.shape[0], -1).T\n",
        "\n",
        "    train_x = train_x_flatten / 255.\n",
        "    test_x = test_x_flatten / 255.\n",
        "\n",
        "    return train_x, test_x"
      ]
    },
    {
      "cell_type": "code",
      "execution_count": null,
      "id": "69a64f03-c0d4-4a14-ba78-43300ca94a04",
      "metadata": {
        "id": "69a64f03-c0d4-4a14-ba78-43300ca94a04"
      },
      "outputs": [],
      "source": [
        "# Softmax function\n",
        "def softmax(z):\n",
        "    exp_z = np.exp(z - np.max(z, axis=0, keepdims=True))\n",
        "    return exp_z / np.sum(exp_z, axis=0, keepdims=True)"
      ]
    },
    {
      "cell_type": "code",
      "execution_count": null,
      "id": "0a55e896-524e-4f73-b3d8-51781de6a214",
      "metadata": {
        "id": "0a55e896-524e-4f73-b3d8-51781de6a214"
      },
      "outputs": [],
      "source": [
        "# Cost function for multi-class classification\n",
        "def compute_cost(A, Y):\n",
        "    m = Y.shape[1]\n",
        "    cost = -np.sum(Y * np.log(A)) / m\n",
        "    return cost"
      ]
    },
    {
      "cell_type": "code",
      "execution_count": null,
      "id": "fddc3af2-aaed-4509-b848-b664f8bfec34",
      "metadata": {
        "id": "fddc3af2-aaed-4509-b848-b664f8bfec34"
      },
      "outputs": [],
      "source": [
        "# Gradient Descent\n",
        "def gradient_descent(X, Y, learning_rate, num_iterations):\n",
        "    n_x, m = X.shape\n",
        "    n_y = Y.shape[0]\n",
        "\n",
        "    W = np.random.randn(n_y, n_x) * 0.01\n",
        "    b = np.zeros((n_y, 1))\n",
        "\n",
        "    for i in range(num_iterations):\n",
        "        Z = np.dot(W, X) + b\n",
        "        A = softmax(Z)\n",
        "\n",
        "        cost = compute_cost(A, Y)\n",
        "\n",
        "        dZ = A - Y\n",
        "        dW = np.dot(dZ, X.T) / m\n",
        "        db = np.sum(dZ, axis=1, keepdims=True) / m\n",
        "\n",
        "        W -= learning_rate * dW\n",
        "        b -= learning_rate * db\n",
        "\n",
        "        if i % 100 == 0:\n",
        "            print(f\"Cost after iteration {i}: {cost}\")\n",
        "\n",
        "    return W, b"
      ]
    },
    {
      "cell_type": "code",
      "execution_count": null,
      "id": "9f1fe797-b58e-484f-8727-a946e61322ef",
      "metadata": {
        "id": "9f1fe797-b58e-484f-8727-a946e61322ef"
      },
      "outputs": [],
      "source": [
        "# Predict function\n",
        "def predict(W, b, X):\n",
        "    Z = np.dot(W, X) + b\n",
        "    A = softmax(Z)\n",
        "    predictions = np.argmax(A, axis=0)\n",
        "    return predictions"
      ]
    },
    {
      "cell_type": "code",
      "execution_count": null,
      "id": "9d1ebc43-8658-4c91-8c8f-d6750639fc47",
      "metadata": {
        "id": "9d1ebc43-8658-4c91-8c8f-d6750639fc47"
      },
      "outputs": [],
      "source": [
        "# Convert labels to one-hot encoding\n",
        "def convert_to_one_hot(Y, num_classes):\n",
        "    Y_one_hot = np.eye(num_classes)[Y.reshape(-1)].T\n",
        "    return Y_one_hot"
      ]
    },
    {
      "cell_type": "code",
      "execution_count": null,
      "id": "cfa6c7e8-bb8d-4833-9cbc-bcc06c196f15",
      "metadata": {
        "id": "cfa6c7e8-bb8d-4833-9cbc-bcc06c196f15"
      },
      "outputs": [],
      "source": [
        "# Load and preprocess the data\n",
        "# train_x_orig, train_y_orig, test_x_orig, test_y_orig = load_data(\"Train.h5\", \"Test.h5\")\n",
        "train_x_orig, train_y_orig, test_x_orig, test_y_orig = load_data(\"/content/Train (1).h5\", \"/content/Test (1).h5\")\n",
        "\n",
        "train_x, test_x = preprocess_data(train_x_orig, test_x_orig)"
      ]
    },
    {
      "cell_type": "code",
      "execution_count": null,
      "id": "5c744e14-6d7f-4e75-915a-26e93db9d34a",
      "metadata": {
        "id": "5c744e14-6d7f-4e75-915a-26e93db9d34a"
      },
      "outputs": [],
      "source": [
        "# Convert labels to one-hot encoding\n",
        "num_classes = len(np.unique(train_y_orig))\n",
        "train_y = convert_to_one_hot(train_y_orig, num_classes)\n",
        "test_y = convert_to_one_hot(test_y_orig, num_classes)"
      ]
    },
    {
      "cell_type": "code",
      "execution_count": null,
      "id": "b270c8ef-7cf4-4239-80b7-f5aeadd4d4ee",
      "metadata": {
        "colab": {
          "background_save": true,
          "base_uri": "https://localhost:8080/"
        },
        "id": "b270c8ef-7cf4-4239-80b7-f5aeadd4d4ee",
        "outputId": "7c2e9d9b-b1cc-437d-a9e9-73c903d32ca2"
      },
      "outputs": [
        {
          "name": "stdout",
          "output_type": "stream",
          "text": [
            "Cost after iteration 0: 1.78078176268458\n",
            "Cost after iteration 100: 1.2866210530544988\n",
            "Cost after iteration 200: 1.2087955662220016\n",
            "Cost after iteration 300: 1.1619564046184871\n",
            "Cost after iteration 400: 1.126417071799376\n",
            "Cost after iteration 500: 1.0967943927211592\n",
            "Cost after iteration 600: 1.0709148588947885\n",
            "Cost after iteration 700: 1.0476819889471432\n",
            "Cost after iteration 800: 1.0264566304848906\n",
            "Cost after iteration 900: 1.006827428903298\n",
            "Cost after iteration 1000: 0.9885104170624601\n",
            "Cost after iteration 1100: 0.9712993094104093\n",
            "Cost after iteration 1200: 0.9550384063397002\n",
            "Cost after iteration 1300: 0.9396066475099218\n",
            "Cost after iteration 1400: 0.9249076359818982\n",
            "Cost after iteration 1500: 0.9108630871945823\n",
            "Cost after iteration 1600: 0.8974083571784798\n",
            "Cost after iteration 1700: 0.8844892932223886\n",
            "Cost after iteration 1800: 0.8720599582288513\n",
            "Cost after iteration 1900: 0.8600809505382524\n",
            "Cost after iteration 2000: 0.8485181402261908\n",
            "Cost after iteration 2100: 0.837341703114572\n",
            "Cost after iteration 2200: 0.8265253716419205\n",
            "Cost after iteration 2300: 0.8160458463237217\n",
            "Cost after iteration 2400: 0.8058823278927357\n",
            "Cost after iteration 2500: 0.7960161413355247\n",
            "Cost after iteration 2600: 0.7864304307542344\n",
            "Cost after iteration 2700: 0.777109909419976\n",
            "Cost after iteration 2800: 0.7680406532755811\n",
            "Cost after iteration 2900: 0.7592099289688604\n",
            "Cost after iteration 3000: 0.7506060495715509\n",
            "Cost after iteration 3100: 0.7422182526802412\n",
            "Cost after iteration 3200: 0.7340365967526901\n",
            "Cost after iteration 3300: 0.7260518724102585\n",
            "Cost after iteration 3400: 0.7182555261083245\n",
            "Cost after iteration 3500: 0.7106395940943718\n",
            "Cost after iteration 3600: 0.7031966449761472\n",
            "Cost after iteration 3700: 0.6959197295378753\n",
            "Cost after iteration 3800: 0.6888023366916294\n",
            "Cost after iteration 3900: 0.6818383546489952\n",
            "Cost after iteration 4000: 0.6750220365566364\n",
            "Cost after iteration 4100: 0.6683479699670148\n",
            "Cost after iteration 4200: 0.6618110496189572\n",
            "Cost after iteration 4300: 0.6554064530870588\n",
            "Cost after iteration 4400: 0.6491296189279986\n",
            "Cost after iteration 4500: 0.642976227008732\n",
            "Cost after iteration 4600: 0.6369421807485877\n",
            "Cost after iteration 4700: 0.6310235910464019\n",
            "Cost after iteration 4800: 0.6252167616964269\n",
            "Cost after iteration 4900: 0.6195181761240469\n"
          ]
        }
      ],
      "source": [
        "# Train the model\n",
        "learning_rate = 0.001\n",
        "num_iterations = 5000\n",
        "W, b = gradient_descent(train_x, train_y, learning_rate, num_iterations)"
      ]
    },
    {
      "cell_type": "code",
      "execution_count": null,
      "id": "482d0a2a-527f-450e-a758-e77893eaa3ce",
      "metadata": {
        "colab": {
          "background_save": true
        },
        "id": "482d0a2a-527f-450e-a758-e77893eaa3ce"
      },
      "outputs": [],
      "source": [
        "# Test the model\n",
        "train_predictions = predict(W, b, train_x)\n",
        "test_predictions = predict(W, b, test_x)"
      ]
    },
    {
      "cell_type": "code",
      "execution_count": null,
      "id": "ccc68523-abfc-412f-ac56-8a8e48462286",
      "metadata": {
        "colab": {
          "background_save": true
        },
        "id": "ccc68523-abfc-412f-ac56-8a8e48462286",
        "outputId": "1f5cf4f0-32a7-4a0c-b27e-7738c7d7298c"
      },
      "outputs": [
        {
          "name": "stdout",
          "output_type": "stream",
          "text": [
            "Train accuracy: 84.35%\n",
            "Test accuracy: 48.33%\n"
          ]
        }
      ],
      "source": [
        "# Calculate accuracy\n",
        "train_accuracy = np.mean(train_predictions == np.argmax(train_y, axis=0)) * 100\n",
        "test_accuracy = np.mean(test_predictions == np.argmax(test_y, axis=0)) * 100\n",
        "\n",
        "print(f\"Train accuracy: {train_accuracy:.2f}%\")\n",
        "print(f\"Test accuracy: {test_accuracy:.2f}%\")"
      ]
    },
    {
      "cell_type": "code",
      "execution_count": null,
      "id": "75cd56b2-44b0-4055-866f-678ebf720ff7",
      "metadata": {
        "colab": {
          "background_save": true
        },
        "id": "75cd56b2-44b0-4055-866f-678ebf720ff7"
      },
      "outputs": [],
      "source": []
    }
  ],
  "metadata": {
    "colab": {
      "provenance": []
    },
    "kernelspec": {
      "display_name": "Python 3 (ipykernel)",
      "language": "python",
      "name": "python3"
    },
    "language_info": {
      "codemirror_mode": {
        "name": "ipython",
        "version": 3
      },
      "file_extension": ".py",
      "mimetype": "text/x-python",
      "name": "python",
      "nbconvert_exporter": "python",
      "pygments_lexer": "ipython3",
      "version": "3.12.4"
    }
  },
  "nbformat": 4,
  "nbformat_minor": 5
}